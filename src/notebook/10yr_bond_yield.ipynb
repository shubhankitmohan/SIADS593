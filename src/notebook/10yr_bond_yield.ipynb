{
 "cells": [
  {
   "cell_type": "code",
   "execution_count": 6,
   "metadata": {},
   "outputs": [
    {
     "name": "stdout",
     "output_type": "stream",
     "text": [
      "        date  value\n",
      "0 1962-01-02   4.06\n",
      "1 1962-01-03   4.03\n",
      "2 1962-01-04   3.99\n",
      "3 1962-01-05   4.02\n",
      "4 1962-01-08   4.03\n"
     ]
    }
   ],
   "source": [
    "import requests\n",
    "import pandas as pd\n",
    "\n",
    "# FRED API Key\n",
    "API_KEY = \"2c0da95680a04b08e743c8e57eb10644\"\n",
    "BASE_URL = \"https://api.stlouisfed.org/fred\"\n",
    "\n",
    "# Parameters for the API request\n",
    "params = {\n",
    "    \"series_id\": \"DGS10\",  # Series ID for 10-Year Treasury Yields\n",
    "    \"api_key\": API_KEY,\n",
    "    \"file_type\": \"json\",  # Response format\n",
    "}\n",
    "\n",
    "# API endpoint for retrieving observations\n",
    "url = f\"{BASE_URL}/series/observations\"\n",
    "\n",
    "# Fetch the data\n",
    "response = requests.get(url, params=params)\n",
    "if response.status_code == 200:\n",
    "    data = response.json()\n",
    "    observations = data.get(\"observations\", [])\n",
    "    \n",
    "    # Convert to DataFrame\n",
    "    df_treasury = pd.DataFrame(observations)\n",
    "    df_treasury.to_csv(\"../data/10yr_bond_yield2.csv\",index=False)\n",
    "    \n",
    "    # Clean and transform the data\n",
    "    df_treasury[\"date\"] = pd.to_datetime(df_treasury[\"date\"])\n",
    "    df_treasury[\"value\"] = pd.to_numeric(df_treasury[\"value\"], errors=\"coerce\")  # Convert to numeric\n",
    "    df_treasury = df_treasury.dropna(subset=[\"value\"])  # Drop rows with missing values\n",
    "    df_treasury = df_treasury.drop(columns=[\"realtime_start\", \"realtime_end\"]) # Drop realtime columns\n",
    "    df_treasury = df_treasury.sort_values(by=\"date\") # Sort by Date\n",
    "    \n",
    "    print(df_treasury.head())  # Preview the data\n",
    "    df_treasury.to_csv(\"../data/10yr_bond_yield.csv\",index=False)\n",
    "else:\n",
    "    print(\"Error fetching data:\", response.text)"
   ]
  },
  {
   "cell_type": "code",
   "execution_count": null,
   "metadata": {},
   "outputs": [],
   "source": []
  }
 ],
 "metadata": {
  "kernelspec": {
   "display_name": "Python 3",
   "language": "python",
   "name": "python3"
  },
  "language_info": {
   "codemirror_mode": {
    "name": "ipython",
    "version": 3
   },
   "file_extension": ".py",
   "mimetype": "text/x-python",
   "name": "python",
   "nbconvert_exporter": "python",
   "pygments_lexer": "ipython3",
   "version": "3.9.6"
  }
 },
 "nbformat": 4,
 "nbformat_minor": 2
}
